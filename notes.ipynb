{
 "cells": [
  {
   "source": [
    "<h3>Previous studies intending to reducing the computation time for image classification or object detection or object localization.</h3>\n",
    "\n",
    "> Paper: \"[Search for objects driven by context](https://papers.nips.cc/paper/4717-searching-for-objects-driven-by-context.pdf)\" tried:\n",
    "* Find the location of the object by understanding its class. For example, to detect cloud, it is understood that cloud is always present at\n",
    "the top of a given scene. So the method will apply window to the upper region of the image.\n",
    "* To get to a definite location or area of the OI (object of Interest), prior window information is used. For example, if prior \n",
    "window finds the object as road, the next window will search for the object at a location above the prior window location.\n",
    "* To achieve this the a statistical relation between the position and appearance of windows in the training images to their relative \n",
    "position wrt to the ground-truth is formed.\n",
    "* How to reach to an optimal object location:\n",
    "  1. First a training data for a certain class marking all the possible locations of that class is created as a set of groud truth images.\n",
    "  2. When the algorithm is applied, the algorithm will extract the window information from all the location that is being observed \n",
    "     from the ground truth locations sequentially. The next location will depend upon the displacement vector relative to the ground truth \n",
    "     object.\n",
    "  3. At last, a global estimate is made for the object location.\n",
    "  4. The process involves comparing high-dimensional appearance descriptors between a test window y^t and hundreds of thousand training \n",
    "     windows. We greatly reduce the cost of these comparisons by embedding the descriptors in a lower-dimensional Hamming space.``\n",
    "\t\n",
    "## **CONTEXT DRIVEN SEARCH:**\n",
    "* A window at time t, W<sup>t</sup> = (x<sup>t</sup>, y<sup>t</sup>, s<sup>t</sup>), where, x, y is the location and s is the scale of the window.\n",
    "* Each window consists of *J* features. \n",
    "### **Search Policy**\n",
    "\n",
    "* The search policy π<sup>_S_</sup> determines the choice of the next observation window given the observation history at time step t.\n",
    "* Next window, W<sup>t+1</sup> = π<sup>_S_</sup>(W<sup>1</sup> y<sup>1</sup>, ..., W<sup>t</sup> y<sup>t</sup>)\n",
    "* Finally,\n",
    "$$ W^{t+1} = π^S(w^1, y^1, . . . , w^t, y^t ) = arg max (M^t(w|w^1, y^1, . . . , w^t, y^t;Θ)) $$, where $M^t$ is the conditional distribution\n",
    "\n",
    "\t\n",
    "\t\n",
    "\t\t\t\n"
   ],
   "cell_type": "markdown",
   "metadata": {}
  }
 ],
 "metadata": {
  "language_info": {
   "codemirror_mode": {
    "name": "ipython",
    "version": 3
   },
   "file_extension": ".py",
   "mimetype": "text/x-python",
   "name": "python",
   "nbconvert_exporter": "python",
   "pygments_lexer": "ipython3",
   "version": 3
  },
  "orig_nbformat": 2
 },
 "nbformat": 4,
 "nbformat_minor": 2
}